{
 "cells": [
  {
   "cell_type": "code",
   "execution_count": 1,
   "metadata": {},
   "outputs": [
    {
     "name": "stdout",
     "output_type": "stream",
     "text": [
      "Hello LangChain!!\n"
     ]
    }
   ],
   "source": [
    "print(\"Hello LangChain!!\")"
   ]
  },
  {
   "cell_type": "code",
   "execution_count": 4,
   "metadata": {},
   "outputs": [
    {
     "name": "stdout",
     "output_type": "stream",
     "text": [
      "gsk_n\n"
     ]
    }
   ],
   "source": [
    "import os\n",
    "from dotenv import load_dotenv\n",
    "from langchain_core.prompts import ChatPromptTemplate\n",
    "from langchain_openai import ChatOpenAI \n",
    "\n",
    "#load_dotenv(dotenv_path='.env')\n",
    "load_dotenv()\n",
    "OPENAI_API_KEY = os.getenv(\"OPENAI_API_KEY\")\n",
    "print(OPENAI_API_KEY[:5])\n"
   ]
  },
  {
   "cell_type": "code",
   "execution_count": 6,
   "metadata": {},
   "outputs": [
    {
     "name": "stdout",
     "output_type": "stream",
     "text": [
      "<class 'langchain_core.prompts.chat.ChatPromptTemplate'>\n",
      "input_variables=['input'] input_types={} partial_variables={} messages=[SystemMessagePromptTemplate(prompt=PromptTemplate(input_variables=[], input_types={}, partial_variables={}, template='당신은 개발자입니다.'), additional_kwargs={}), HumanMessagePromptTemplate(prompt=PromptTemplate(input_variables=['input'], input_types={}, partial_variables={}, template='{input}'), additional_kwargs={})]\n"
     ]
    }
   ],
   "source": [
    "# prompt + llm + output \n",
    "\n",
    "# prompt\n",
    "prompt = ChatPromptTemplate.from_messages(\n",
    "    [ (\"system\", \"당신은 개발자입니다.\") , \n",
    "     (\"user\", \"{input}\") ]\n",
    ")\n",
    "print(type(prompt))\n",
    "print(prompt)"
   ]
  },
  {
   "cell_type": "code",
   "execution_count": 7,
   "metadata": {},
   "outputs": [
    {
     "name": "stdout",
     "output_type": "stream",
     "text": [
      "<class 'str'>\n",
      "System: 당신은 개발자입니다.\n",
      "Human: 파이썬은 무엇인가요? 자세하게 설명해주세요\n"
     ]
    }
   ],
   "source": [
    "prompt_text = prompt.format(input=\"파이썬은 무엇인가요? 자세하게 설명해주세요\")\n",
    "print(type(prompt_text))\n",
    "print(prompt_text)"
   ]
  },
  {
   "cell_type": "code",
   "execution_count": null,
   "metadata": {},
   "outputs": [
    {
     "name": "stdout",
     "output_type": "stream",
     "text": [
      "<class 'langchain_openai.chat_models.base.ChatOpenAI'>\n",
      "client=<openai.resources.chat.completions.completions.Completions object at 0x000002669DCE4C50> async_client=<openai.resources.chat.completions.completions.AsyncCompletions object at 0x000002669D545EE0> root_client=<openai.OpenAI object at 0x000002669DACFA40> root_async_client=<openai.AsyncOpenAI object at 0x000002669DCEB0B0> model_name='meta-llama/llama-4-scout-17b-16e-instruct' temperature=0.7 model_kwargs={} openai_api_key=SecretStr('**********') openai_api_base='https://api.groq.com/openai/v1'\n"
     ]
    }
   ],
   "source": [
    "#llm = ChatOpenAI(api_key=OPENAI_API_KEY, model_name=\"gpt-3.5-turbo-0125\")\n",
    "\n",
    "# Groq API를 사용하는 ChatOpenAI 인스턴스 생성\n",
    "llm = ChatOpenAI(\n",
    "    #api_key=OPENAI_API_KEY,\n",
    "    base_url=\"https://api.groq.com/openai/v1\",  # Groq API 엔드포인트\n",
    "    #model=\"meta-llama/llama-4-scout-17b-16e-instruct\",\n",
    "    model=\"moonshotai/kimi-k2-instruct-0905\",\n",
    "    temperature=0.7\n",
    ")\n",
    "print(type(llm))\n",
    "print(llm)"
   ]
  },
  {
   "cell_type": "code",
   "execution_count": 11,
   "metadata": {},
   "outputs": [
    {
     "name": "stdout",
     "output_type": "stream",
     "text": [
      "<class 'langchain_core.messages.ai.AIMessage'>\n",
      "응답: 파이썬! 프로그래밍 세계에서 매우 인기 있는 언어입니다. 저는 개발자로서 파이썬에 대해 자세히 설명해 드리겠습니다.\n",
      "\n",
      "**파이썬이란?**\n",
      "\n",
      "파이썬은 1991년 Guido van Rossum에 의해 개발된 고수준 프로그래밍 언어입니다. 파이썬은 쉬운 문법과 강력한 라이브러리, 그리고 다양한 운영 체제에서 실행할 수 있는 크로스 플랫폼 언어입니다.\n",
      "\n",
      "**파이썬의 특징**\n",
      "\n",
      "1. **쉬운 문법**: 파이썬은 매우 간단하고 읽기 쉬운 문법을 가지고 있습니다. 이는 개발자가 빠르게 코드를 작성하고 테스트할 수 있도록 도와줍니다.\n",
      "2. **고수준 언어**: 파이썬은 고수준 언어로서, 개발자가 메모리 관리나 저수준 시스템 호출에 대해 걱정할 필요가 없습니다.\n",
      "3. **객체 지향**: 파이썬은 객체 지향 프로그래밍(OOP) 개념을 지원합니다. 이는 모듈화된 코드를 작성하고 재사용할 수 있도록 도와줍니다.\n",
      "4. **대규모 라이브러리**: 파이썬은 방대한 라이브러리와 모듈을 보유하고 있습니다. 이는 개발자가 다양한 작업을 쉽게 수행할 수 있도록 도와줍니다.\n",
      "5. **크로스 플랫폼**: 파이썬은 다양한 운영 체제에서 실행할 수 있습니다. 윈도우, macOS, 리눅스, 심지어 모바일 장치에서도 실행할 수 있습니다.\n",
      "\n",
      "**파이썬의 사용 사례**\n",
      "\n",
      "1. **웹 개발**: 파이썬은 웹 개발에 널리 사용됩니다. Flask, Django와 같은 웹 프레임워크를 사용하여 웹 애플리케이션을 구축할 수 있습니다.\n",
      "2. **데이터 과학**: 파이썬은 데이터 과학과 머신러닝에 매우 인기가 있습니다. NumPy, pandas, scikit-learn과 같은 라이브러리를 사용하여 데이터를 분석하고 모델을 구축할 수 있습니다.\n",
      "3. **스크립팅**: 파이썬은 스크립팅에 매우 적합합니다. 간단한 스크립트를 작성하여 작업을 자동화할 수 있습니다.\n",
      "4. **게임 개발**: 파이썬은 게임 개발에도 사용됩니다. Pygame와 같은 라이브러리를 사용하여 게임을 구축할 수 있습니다.\n",
      "\n",
      "**파이썬의 버전**\n",
      "\n",
      "파이썬에는 두 가지 주요 버전이 있습니다.\n",
      "\n",
      "1. **파이썬 2.x**: 파이썬 2.x는 2000년에 출시되었으며, 2020년에 지원이 종료되었습니다.\n",
      "2. **파이썬 3.x**: 파이썬 3.x는 2008년에 출시되었으며, 현재 가장 최신의 버전입니다.\n",
      "\n",
      "**결론**\n",
      "\n",
      "파이썬은 쉽고 강력한 프로그래밍 언어입니다. 다양한 분야에서 사용되며, 방대한 라이브러리와 모듈을 보유하고 있습니다. 파이썬은 개발자가 빠르게 코드를 작성하고 테스트할 수 있도록 도와주며, 크로스 플랫폼 언어로서 다양한 운영 체제에서 실행할 수 있습니다. 저는 개발자로서 파이썬을 매우 좋아하며, 파이썬을 사용하는 것을 추천합니다!\n"
     ]
    }
   ],
   "source": [
    "try:\n",
    "    response = llm.invoke(prompt_text)\n",
    "    print(type(response))\n",
    "    print(\"응답:\", response.content)\n",
    "except Exception as e:\n",
    "    print(f\"오류 발생: {e}\")"
   ]
  },
  {
   "cell_type": "markdown",
   "metadata": {},
   "source": [
    "# LCEL"
   ]
  },
  {
   "cell_type": "code",
   "execution_count": 13,
   "metadata": {},
   "outputs": [],
   "source": [
    "from langchain_core.output_parsers import StrOutputParser\n",
    "\n",
    "output_parser = StrOutputParser()"
   ]
  },
  {
   "cell_type": "code",
   "execution_count": 16,
   "metadata": {},
   "outputs": [
    {
     "name": "stdout",
     "output_type": "stream",
     "text": [
      "<class 'langchain_core.runnables.base.RunnableSequence'>\n",
      "first=ChatPromptTemplate(input_variables=['input'], input_types={}, partial_variables={}, messages=[SystemMessagePromptTemplate(prompt=PromptTemplate(input_variables=[], input_types={}, partial_variables={}, template='당신은 개발자입니다.'), additional_kwargs={}), HumanMessagePromptTemplate(prompt=PromptTemplate(input_variables=['input'], input_types={}, partial_variables={}, template='{input}'), additional_kwargs={})]) middle=[ChatOpenAI(client=<openai.resources.chat.completions.completions.Completions object at 0x000001D80BFAB4D0>, async_client=<openai.resources.chat.completions.completions.AsyncCompletions object at 0x000001D80BFBD8E0>, root_client=<openai.OpenAI object at 0x000001D80BA955B0>, root_async_client=<openai.AsyncOpenAI object at 0x000001D80BFAB530>, model_name='meta-llama/llama-4-scout-17b-16e-instruct', temperature=0.7, model_kwargs={}, openai_api_key=SecretStr('**********'), openai_api_base='https://api.groq.com/openai/v1')] last=StrOutputParser()\n"
     ]
    }
   ],
   "source": [
    "chain = prompt | llm | output_parser\n",
    "print(type(chain))\n",
    "print(chain)"
   ]
  },
  {
   "cell_type": "code",
   "execution_count": 17,
   "metadata": {},
   "outputs": [],
   "source": [
    "response = chain.invoke({\"input\":\"지구의 자전주기는 얼마인가요?\"})"
   ]
  },
  {
   "cell_type": "code",
   "execution_count": 18,
   "metadata": {},
   "outputs": [
    {
     "name": "stdout",
     "output_type": "stream",
     "text": [
      "<class 'str'>\n",
      "지구의 자전주기는 24시간입니다. 이를 하루라고 부릅니다.\n"
     ]
    }
   ],
   "source": [
    "print(type(response))\n",
    "print(response)"
   ]
  }
 ],
 "metadata": {
  "kernelspec": {
   "display_name": "mylangchain-app-SBe-Yh6W-py3.12",
   "language": "python",
   "name": "python3"
  },
  "language_info": {
   "codemirror_mode": {
    "name": "ipython",
    "version": 3
   },
   "file_extension": ".py",
   "mimetype": "text/x-python",
   "name": "python",
   "nbconvert_exporter": "python",
   "pygments_lexer": "ipython3",
   "version": "3.12.7"
  }
 },
 "nbformat": 4,
 "nbformat_minor": 2
}
