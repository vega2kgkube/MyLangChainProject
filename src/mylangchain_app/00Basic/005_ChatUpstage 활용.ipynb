{
 "cells": [
  {
   "cell_type": "markdown",
   "metadata": {},
   "source": [
    "# 1. 패키지 설치"
   ]
  },
  {
   "cell_type": "code",
   "execution_count": null,
   "metadata": {},
   "outputs": [],
   "source": [
    "# poetry add pypdf=\">=4.2.0,<5.0.0\"\n",
    "# poetry add langchain-upstage"
   ]
  },
  {
   "cell_type": "markdown",
   "metadata": {},
   "source": [
    "# 2. 환경변수 불러오기\n",
    "\n",
    "- `.env` 파일에 `UPSTAGE_API_KEY` 등록"
   ]
  },
  {
   "cell_type": "code",
   "execution_count": 1,
   "metadata": {},
   "outputs": [
    {
     "name": "stdout",
     "output_type": "stream",
     "text": [
      "up_v\n"
     ]
    }
   ],
   "source": [
    "from dotenv import load_dotenv\n",
    "import os\n",
    "# .env 파일을 불러와서 환경 변수로 설정\n",
    "load_dotenv()\n",
    "\n",
    "UPSTAGE_API_KEY = os.getenv(\"UPSTAGE_API_KEY\")\n",
    "print(UPSTAGE_API_KEY[:4])"
   ]
  },
  {
   "cell_type": "markdown",
   "metadata": {},
   "source": [
    "# 3. LLM 답변 생성\n",
    "\n",
    "- Upstage Console에서 발급받은 API Key를 `UPSTAGE_API_KEY`라고 저장하면 별도의 설정 없이 `ChatUpstage`를 사용할 수 있음"
   ]
  },
  {
   "cell_type": "code",
   "execution_count": 2,
   "metadata": {},
   "outputs": [
    {
     "name": "stdout",
     "output_type": "stream",
     "text": [
      "client=<openai.resources.chat.completions.completions.Completions object at 0x0000022A66062840> async_client=<openai.resources.chat.completions.completions.AsyncCompletions object at 0x0000022A6607AF00> model_name='solar-pro' temperature=0.5 model_kwargs={} upstage_api_key=SecretStr('**********') upstage_api_base='https://api.upstage.ai/v1'\n"
     ]
    }
   ],
   "source": [
    "from langchain_upstage import ChatUpstage\n",
    "\n",
    "#llm = ChatUpstage(temperature=0.5)\n",
    "llm = ChatUpstage(\n",
    "        model=\"solar-pro\",\n",
    "        base_url=\"https://api.upstage.ai/v1\",\n",
    "        temperature=0.5\n",
    "    )\n",
    "print(llm)"
   ]
  },
  {
   "cell_type": "code",
   "execution_count": 3,
   "metadata": {},
   "outputs": [
    {
     "name": "stdout",
     "output_type": "stream",
     "text": [
      "<class 'langchain_core.messages.ai.AIMessage'>\n",
      "**LangChain**은 대규모 언어 모델(LLM)을 활용한 애플리케이션 개발을 간소화하기 위한 오픈소스 프레임워크입니다. 2022년 Harrison Chase가 주도하여 개발되었으며, 복잡한 LLM 기반 시스템을 모듈식으로 구성할 수 있도록 지원합니다. 주요 특징과 활용 분야는 다음과 같습니다:\n",
      "\n",
      "### 1. **핵심 기능**\n",
      "   - **모듈화**: LLM 애플리케이션의 구성 요소(데이터 로드, 체인, 메모리, 에이전트 등)를 레고 조립처럼 조합할 수 있습니다.\n",
      "   - **통합 지원**: OpenAI, Anthropic, Hugging Face, 로컬 LLM 등 다양한 모델 및 도구와 연동 가능합니다.\n",
      "   - **메모리 관리**: 대화 기록이나 상태 유지를 통해 컨텍스트를 유지하는 챗봇 구축에 유용합니다.\n",
      "   - **에이전트 기능**: LLM이 외부 도구(검색, 계산기, 데이터베이스 등)를 자율적으로 사용할 수 있도록 합니다.\n",
      "\n",
      "### 2. **주요 구성 요소**\n",
      "   - **모델 I/O**: 프롬프트 템플릿, 출력 파서 등으로 LLM과의 입력을 표준화합니다.\n",
      "   - **체인(Chains)**: 여러 LLM 호출과 도구를 연결해 복합 작업(예: 문서 QA → 요약 → 답변)을 처리합니다.\n",
      "   - **데이터 연결**: API, 데이터베이스, PDF 등 외부 데이터 소스와 연동합니다.\n",
      "   - **콜백 시스템**: 진행 상황 추적이나 로깅을 위한 후킹 기능을 제공합니다.\n",
      "\n",
      "### 3. **사용 사례**\n",
      "   - **챗봇**: 컨텍스트를 유지하는 대화형 AI.\n",
      "   - **자동화된 문서 처리**: 보고서 요약, 데이터 추출 등.\n",
      "   - **코드 생성/리팩토링**: GitHub Copilot과 유사한 도구 구축.\n",
      "   - **에이전트 시스템**: 검색, 계산, 의사 결정을 자동화하는 자율 에이전트.\n",
      "\n",
      "### 4. **장점**\n",
      "   - **개발 효율성**: 반복적인 코드 작성 없이 빠르게 프로토타이핑 가능.\n",
      "   - **확장성**: 커스텀 모듈 추가가 용이합니다.\n",
      "   - **커뮤니티**: 활발한 생태계로 다양한 예제와 통합 도구가 공유됩니다.\n",
      "\n",
      "### 5. **예시 코드 (간단한 체인)**\n",
      "```python\n",
      "from langchain.chains import LLMChain\n",
      "from langchain.llms import OpenAI\n",
      "from langchain.prompts import PromptTemplate\n",
      "\n",
      "prompt = PromptTemplate.from_template(\"질문: {question} → 답변: \")\n",
      "llm = OpenAI(model_name=\"gpt-3.5-turbo\")\n",
      "chain = LLMChain(llm=llm, prompt=prompt)\n",
      "\n",
      "chain.run(\"태양의 질량은 지구의 몇 배인가요?\")\n",
      "```\n",
      "\n",
      "LangChain은 LLM의 잠재력을 최대한 활용하려는 개발자, 연구자, 기업에게 강력한 도구로 자리잡고 있습니다. 공식 문서([langchain.com](https://python.langchain.com))에서 더 자세한 정보를 확인할 수 있습니다.\n"
     ]
    }
   ],
   "source": [
    "ai_message=llm.invoke(\"LangChain은 무엇인가요?\")\n",
    "print(type(ai_message))\n",
    "print(ai_message.content)"
   ]
  },
  {
   "cell_type": "code",
   "execution_count": 4,
   "metadata": {},
   "outputs": [
    {
     "name": "stdout",
     "output_type": "stream",
     "text": [
      "**LangChain**은 대규모 언어 모델(LLM, Large Language Model)을 활용해 애플리케이션을 구축하기 위한 **오픈소스 프레임워크**입니다. 복잡한 언어 모델 작업을 단순화하고, 외부 도구와의 통합을 쉽게 해주는 것이 핵심 목표입니다.  \n",
      "\n",
      "### 📌 **주요 개념 및 특징**\n",
      "1. **모듈화된 구성 요소**  \n",
      "   - **LLM 연결**: OpenAI, Anthropic, Meta 등의 다양한 LLM과 호환됩니다.  \n",
      "   - **메모리(Memory)**: 대화 기록을 유지해 컨텍스트를 관리합니다 (예: 채팅봇).  \n",
      "   - **체인(Chain)**: 여러 단계(예: \"질문 분석 → 데이터베이스 조회 → 답변 생성\")를 연결해 복잡한 작업을 처리합니다.  \n",
      "   - **에이전트(Agent)**: 동적으로 도구(검색, 계산기 등)를 선택해 작업을 수행합니다.  \n",
      "   - **데이터 연결**: SQL, 벡터 데이터베이스(FAISS, Pinecone), API 등과 통합해 외부 데이터를 활용합니다.  \n",
      "\n",
      "2. **주요 사용 사례**  \n",
      "   - **챗봇**: 사용자 질문에 대해 컨텍스트를 유지하며 답변.  \n",
      "   - **문서 요약/분석**: PDF, 웹 페이지 등에서 정보 추출.  \n",
      "   - **코드 생성**: GitHub 리포지토리와 연동해 개발 지원.  \n",
      "   - **자동화된 워크플로우**: 여러 API와 도구를 조합해 복잡한 작업 처리.  \n",
      "\n",
      "3. **장점**  \n",
      "   - LLM의 한계를 보완하는 **도구 통합** (예: 실시간 정보 검색을 위해 SerpAPI 사용).  \n",
      "   - 재사용 가능한 컴포넌트로 **개발 효율성** 향상.  \n",
      "   - 커뮤니티가 활발히 기여해 **확장성**이 뛰어남.  \n",
      "\n",
      "4. **예시 코드 (간단한 체인)**  \n",
      "   ```python\n",
      "   from langchain.chains import LLMChain\n",
      "   from langchain.llms import OpenAI\n",
      "   from langchain.prompts import PromptTemplate\n",
      "\n",
      "   llm = OpenAI(model_name=\"gpt-3.5-turbo\")\n",
      "   prompt = PromptTemplate(input_variables=[\"topic\"], template=\"다음에 대해 설명해줘: {topic}\")\n",
      "   chain = LLMChain(llm=llm, prompt=prompt)\n",
      "   chain.run(\"양자 컴퓨팅\")\n",
      "   ```\n",
      "\n",
      "### 🔍 **LangSmith (모니터링 도구)**  \n",
      "LangChain 팀은 **LangSmith**라는 디버깅/모니터링 플랫폼도 제공합니다. 체인의 성능 분석이나 오류 추적에 유용합니다.  \n",
      "\n",
      "LangChain은 LLM 기반 애플리케이션 개발을 **레고 조립**처럼 쉽게 만들어주는 프레임워크로, 복잡한 AI 작업을 체계적으로 관리할 수 있게 해줍니다. 🚀"
     ]
    }
   ],
   "source": [
    "# using chat stream\n",
    "for chunk in llm.stream(\"LangChain은 무엇인가요?\"):\n",
    "    print(chunk.content, end=\"\")"
   ]
  },
  {
   "cell_type": "code",
   "execution_count": 5,
   "metadata": {},
   "outputs": [
    {
     "name": "stdout",
     "output_type": "stream",
     "text": [
      "Upstage Response:\n",
      "\"LangChain은 AI 애플리케이션 구축을 위한 강력한 프레임워크입니다.\"  \n",
      "\n",
      "또는 자연스럽게 다듬은 버전:  \n",
      "**\"LangChain은 AI 애플리케이션 개발에 최적화된 강력한 프레임워크입니다.\"**  \n",
      "\n",
      "### 설명:\n",
      "- **\"강력한 프레임워크\"** → \"powerful framework\"의 직역으로, 기술 문서에서 흔히 사용되는 표현입니다.  \n",
      "- **\"구축\"** 대신 **\"개발에 최적화된\"**을 추가하면 한국어로 더 매끄러운 문장이 됩니다. (선택 사항)  \n",
      "- 기술 용어인 **\"AI 애플리케이션\"**은 그대로 유지하는 것이 일반적이지만, 필요에 따라 **\"인공지능 응용 프로그램\"**으로 바꿀 수도 있습니다.  \n",
      "\n",
      "문맥에 따라 유연하게 선택하시면 됩니다!\n"
     ]
    }
   ],
   "source": [
    "from langchain_upstage import ChatUpstage\n",
    "from langchain_core.prompts import ChatPromptTemplate\n",
    "\n",
    "translation_prompt = ChatPromptTemplate.from_messages([\n",
    "        (\"system\", \"You are a professional translator specializing in Korean-English translation.\"),\n",
    "        (\"human\", \"Translate this from {source_lang} to {target_lang}: {text}\")\n",
    "    ])\n",
    "\n",
    "llm = ChatUpstage(\n",
    "        model=\"solar-pro\",\n",
    "        base_url=\"https://api.upstage.ai/v1\",\n",
    "        temperature=0.5\n",
    "    )\n",
    "\n",
    "# 체인 실행\n",
    "chain = translation_prompt | llm\n",
    "\n",
    "response = chain.invoke({\n",
    "    \"source_lang\": \"English\",\n",
    "    \"target_lang\": \"Korean\", \n",
    "    \"text\": \"LangChain is a powerful framework for building AI applications.\"\n",
    "})\n",
    "\n",
    "print(\"Upstage Response:\")\n",
    "print(response.content)\n",
    "    "
   ]
  },
  {
   "cell_type": "code",
   "execution_count": null,
   "metadata": {},
   "outputs": [],
   "source": [
    "from langchain_core.prompts import ChatPromptTemplate\n",
    "\n",
    "llm = ChatUpstage(\n",
    "        model=\"solar-pro\",\n",
    "        base_url=\"https://api.upstage.ai/v1\",\n",
    "        temperature=0.5\n",
    "    )\n",
    "\n",
    "# using chain\n",
    "prompt = ChatPromptTemplate.from_messages(\n",
    "    [\n",
    "        (\"system\", \"You are a helpful assistant that translates English to Korean.\"),\n",
    "        (\"human\", \"Translate this sentence from English to Korean. {english_text}.\"),\n",
    "    ]\n",
    ")\n",
    "\n",
    "llm = ChatUpstage()\n",
    "chain = prompt | llm\n",
    "\n",
    "ai_message=chain.invoke({\"english_text\": \"Hello, How are you?\"})\n",
    "print(ai_message.content)"
   ]
  },
  {
   "cell_type": "markdown",
   "metadata": {},
   "source": [
    "#### Groundness Check\n",
    "* Groundedness Check API는 사용자가 제공한 Context(컨텍스트)에 대한 AI 어시스턴트의 응답이 실제로 그 컨텍스트에 기반하고 있는지 여부를 확인합니다."
   ]
  },
  {
   "cell_type": "code",
   "execution_count": null,
   "metadata": {},
   "outputs": [],
   "source": [
    "from langchain_upstage import UpstageGroundednessCheck\n",
    "\n",
    "groundedness_check = UpstageGroundednessCheck()\n",
    "\n",
    "request_input = {\n",
    "    \"context\": \"삼성전자는 연결 기준으로 매출 74.07조원, 영업이익 10.44조원의 2024년 2분기 실적을 발표했다. 전사 매출은 전분기 대비 3% 증가한 74.07조원을 기록했다. DS부문은 메모리 업황 회복으로 전분기 대비 23% 증가하고, SDC는 OLED 판매 호조로 증가했다.\",\n",
    "    \"answer\": \"삼성SDS의 2024년 2분기 매출은 약 74.07조원이다.\",\n",
    "}\n",
    "\n",
    "response = groundedness_check.invoke(request_input)\n",
    "print(response)  \n"
   ]
  }
 ],
 "metadata": {
  "kernelspec": {
   "display_name": "mylangchain-app-SBe-Yh6W-py3.12",
   "language": "python",
   "name": "python3"
  },
  "language_info": {
   "codemirror_mode": {
    "name": "ipython",
    "version": 3
   },
   "file_extension": ".py",
   "mimetype": "text/x-python",
   "name": "python",
   "nbconvert_exporter": "python",
   "pygments_lexer": "ipython3",
   "version": "3.12.7"
  }
 },
 "nbformat": 4,
 "nbformat_minor": 4
}
