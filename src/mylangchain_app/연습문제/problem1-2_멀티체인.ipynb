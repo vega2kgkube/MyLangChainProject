{
 "cells": [
  {
   "cell_type": "markdown",
   "metadata": {},
   "source": [
    "### 문제 1-2: 2단계 체인 만들기 - 영화 추천 시스템 해답"
   ]
  },
  {
   "cell_type": "markdown",
   "metadata": {},
   "source": [
    "## 환경 설정"
   ]
  },
  {
   "cell_type": "code",
   "execution_count": null,
   "metadata": {},
   "outputs": [],
   "source": [
    "# 필요한 라이브러리 설치\n",
    "#%pip install -q langchain langchain-openai python-dotenv"
   ]
  },
  {
   "cell_type": "code",
   "execution_count": null,
   "metadata": {},
   "outputs": [],
   "source": [
    "# 환경 변수 설정\n",
    "from dotenv import load_dotenv\n",
    "import os\n",
    "\n",
    "# .env 파일에서 API 키 로드\n",
    "load_dotenv()"
   ]
  },
  {
   "cell_type": "markdown",
   "metadata": {},
   "source": [
    "## 문제 2 해답 구현"
   ]
  },
  {
   "cell_type": "markdown",
   "metadata": {},
   "source": [
    "### 요구사항\n",
    "1. 1단계 체인: 장르를 입력받아 영화 1편 추천\n",
    "2. 2단계 체인: 추천받은 영화의 3줄 줄거리 요약 제공\n",
    "3. ChatPromptTemplate 사용\n",
    "4. 두 체인을 LCEL로 연결\n",
    "5. 각 단계의 결과를 모두 출력하여 과정 확인"
   ]
  },
  {
   "cell_type": "code",
   "execution_count": null,
   "metadata": {},
   "outputs": [],
   "source": [
    "# 필요한 라이브러리 import\n",
    "from langchain_core.prompts import ChatPromptTemplate\n",
    "from langchain_openai import ChatOpenAI\n",
    "from langchain_core.output_parsers import StrOutputParser\n",
    "\n",
    "# 1단계: 장르별 영화 추천 프롬프트\n",
    "movie_recommendation_prompt = ChatPromptTemplate.from_messages([\n",
    "    (\"system\", \"당신은 영화 전문가입니다. 사용자가 요청한 장르에 맞는 영화 1편을 추천하고 간단한 설명을 제공해주세요.\"),\n",
    "    (\"user\", \"{genre} 장르의 한국영화 1편을 추천해주세요. 영화 제목과 왜 이 영화를 추천하는지 이유도 함께 알려주세요.\")\n",
    "])"
   ]
  },
  {
   "cell_type": "code",
   "execution_count": null,
   "metadata": {},
   "outputs": [],
   "source": [
    "# 2단계: 영화 줄거리 요약 프롬프트\n",
    "plot_summary_prompt = ChatPromptTemplate.from_messages([\n",
    "    (\"system\", \"당신은 영화 줄거리 요약 전문가입니다. 영화의 핵심 내용을 3줄로 간결하게 요약해주세요.\"),\n",
    "    (\"user\", \"다음 영화 추천 내용을 바탕으로 해당 영화의 등장인물과 줄거리를 정확히 10줄로 요약해주세요: {movie}\")\n",
    "])"
   ]
  },
  {
   "cell_type": "code",
   "execution_count": null,
   "metadata": {},
   "outputs": [],
   "source": [
    "# LLM 모델 초기화\n",
    "# llm = ChatOpenAI(model=\"gpt-3.5-turbo\", temperature=0.7)\n",
    "llm = ChatOpenAI(\n",
    "    #api_key=OPENAI_API_KEY,\n",
    "    base_url=\"https://api.groq.com/openai/v1\",  # Groq API 엔드포인트\n",
    "    model=\"meta-llama/llama-4-scout-17b-16e-instruct\",\n",
    "    temperature=0.7\n",
    ")\n",
    "\n",
    "# 1단계 체인: 영화 추천\n",
    "recommendation_chain = movie_recommendation_prompt | llm | StrOutputParser()\n",
    "# Step 1: 사용자가 입력한 장르에 따라 영화 추천\n",
    "movie = recommendation_chain.invoke({\"genre\": \"Drama\"})  # 영화 제목 얻기\n",
    "print(\" 추천된 영화:\", movie)  # movie 값 출력\n",
    "\n",
    "# 2단계 체인: 줄거리 요약 (1단계 결과를 입력으로 받음)\n",
    "plot_chain = (\n",
    "    {\"movie\": recommendation_chain}  # 1단계 체인의 결과를 movie로 전달\n",
    "    | plot_summary_prompt\n",
    "    | llm\n",
    "    | StrOutputParser()\n",
    ")"
   ]
  },
  {
   "cell_type": "code",
   "execution_count": null,
   "metadata": {},
   "outputs": [],
   "source": [
    "# 테스트 실행\n",
    "try:\n",
    "    genre = \"Drama\"\n",
    "    \n",
    "    print(\"영화 추천 시스템\")\n",
    "    print(\"==================\")\n",
    "    print(f\"\\n입력 장르: {genre}\")\n",
    "    \n",
    "    # 1단계 실행 및 결과 출력\n",
    "    movie_recommendation = recommendation_chain.invoke({\"genre\": genre})\n",
    "    print(\"\\n1단계 - 영화 추천 결과:\")\n",
    "    print(movie_recommendation)\n",
    "    \n",
    "    print(\"\\n---\\n\")\n",
    "    \n",
    "    # 2단계 실행 및 결과 출력\n",
    "    plot_summary = plot_chain.invoke({\"genre\": genre})\n",
    "    print(\"2단계 - 영화 줄거리 요약:\")\n",
    "    print(plot_summary)\n",
    "    \n",
    "except Exception as e:\n",
    "    print(f\"오류 발생: {e}\")"
   ]
  },
  {
   "cell_type": "markdown",
   "metadata": {},
   "source": [
    "## 추가 테스트"
   ]
  },
  {
   "cell_type": "code",
   "execution_count": null,
   "metadata": {},
   "outputs": [],
   "source": [
    "# 다른 장르로 추가 테스트\n",
    "genre2 = \"로맨스\"\n",
    "\n",
    "movie_recommendation2 = recommendation_chain.invoke({\"genre\": genre2})\n",
    "plot_summary2 = plot_chain.invoke({\"genre\": genre2})\n",
    "\n",
    "print(f\"다른 장르로 테스트 - {genre2}:\")\n",
    "print(\"===============================\")\n",
    "print(\"\\n영화 추천:\")\n",
    "print(movie_recommendation2)\n",
    "print(\"\\n줄거리 요약:\")\n",
    "print(plot_summary2)"
   ]
  },
  {
   "cell_type": "markdown",
   "metadata": {},
   "source": [
    "## 체인 연결 패턴 설명"
   ]
  },
  {
   "cell_type": "code",
   "execution_count": null,
   "metadata": {},
   "outputs": [],
   "source": [
    "# 체인 연결 방식 설명\n",
    "print(\"체인 연결 방식 설명:\")\n",
    "print(\"====================\")\n",
    "print()\n",
    "print(\"1단계 체인:\")\n",
    "print(\"movie_recommendation_prompt | llm | StrOutputParser()\")\n",
    "print()\n",
    "print(\"2단계 체인:\")\n",
    "print('{\"movie\": recommendation_chain} | plot_summary_prompt | llm | StrOutputParser()')\n",
    "print()\n",
    "print(\"핵심 포인트:\")\n",
    "print(\"- 1단계 체인의 출력이 2단계 체인의 입력으로 자동 전달\")\n",
    "print(\"- movie 키를 통해 데이터 흐름 제어\")\n",
    "print(\"- LCEL을 통해 직관적인 파이프라인 구성\")"
   ]
  },
  {
   "cell_type": "markdown",
   "metadata": {},
   "source": [
    "## 학습 정리"
   ]
  },
  {
   "cell_type": "markdown",
   "metadata": {},
   "source": [
    "### 문제 2에서 배운 핵심 개념\n",
    "1. **ChatPromptTemplate**: 시스템과 사용자 메시지 구조화\n",
    "2. **다단계 체인**: 여러 단계로 나누어 복잡한 작업 처리\n",
    "3. **체인 간 데이터 전달**: {\"key\": previous_chain} 패턴\n",
    "4. **단계별 결과 확인**: 각 체인의 중간 결과 출력\n",
    "\n",
    "### 구현 완료 사항\n",
    "- ✅ 2단계 체인 구현\n",
    "- ✅ ChatPromptTemplate 사용\n",
    "- ✅ 체인 간 데이터 전달\n",
    "- ✅ 영화 추천 기능\n",
    "- ✅ 줄거리 요약 기능\n",
    "- ✅ 각 단계별 결과 출력\n",
    "- ✅ 다양한 장르 테스트\n",
    "\n",
    "### 체인 연결의 핵심 패턴\n",
    "```python\n",
    "# 기본 패턴\n",
    "chain1 = prompt1 | llm | parser\n",
    "chain2 = {\"input_key\": chain1} | prompt2 | llm | parser\n",
    "```\n",
    "\n",
    "이 패턴을 통해 복잡한 작업을 단계별로 분해하여 처리할 수 있습니다."
   ]
  }
 ],
 "metadata": {
  "kernelspec": {
   "display_name": "langchain-basic-kGdHTiMZ-py3.12",
   "language": "python",
   "name": "python3"
  },
  "language_info": {
   "codemirror_mode": {
    "name": "ipython",
    "version": 3
   },
   "file_extension": ".py",
   "mimetype": "text/x-python",
   "name": "python",
   "nbconvert_exporter": "python",
   "pygments_lexer": "ipython3",
   "version": "3.12.7"
  }
 },
 "nbformat": 4,
 "nbformat_minor": 4
}
